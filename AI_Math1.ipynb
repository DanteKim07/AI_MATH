{
  "nbformat": 4,
  "nbformat_minor": 0,
  "metadata": {
    "colab": {
      "provenance": [],
      "authorship_tag": "ABX9TyOWIYojHoNDRAGtQhopuVPE",
      "include_colab_link": true
    },
    "kernelspec": {
      "name": "python3",
      "display_name": "Python 3"
    },
    "language_info": {
      "name": "python"
    }
  },
  "cells": [
    {
      "cell_type": "markdown",
      "metadata": {
        "id": "view-in-github",
        "colab_type": "text"
      },
      "source": [
        "<a href=\"https://colab.research.google.com/github/DanteKim07/AI_MATH/blob/main/AI_Math1.ipynb\" target=\"_parent\"><img src=\"https://colab.research.google.com/assets/colab-badge.svg\" alt=\"Open In Colab\"/></a>"
      ]
    },
    {
      "cell_type": "markdown",
      "source": [
        "# 1-1. 변수와 수식"
      ],
      "metadata": {
        "id": "FnLYwFxRemUV"
      }
    },
    {
      "cell_type": "code",
      "execution_count": 2,
      "metadata": {
        "colab": {
          "base_uri": "https://localhost:8080/"
        },
        "id": "87foudFWeMus",
        "outputId": "37d51cdc-7788-4a8b-bfd1-9d62aeec7639"
      },
      "outputs": [
        {
          "output_type": "stream",
          "name": "stdout",
          "text": [
            "5\n"
          ]
        }
      ],
      "source": [
        "# 변수선언\n",
        "x = 5\n",
        "print(x)"
      ]
    },
    {
      "cell_type": "code",
      "source": [
        "# 각각에 값 지정\n",
        "x, y, z = 1,2,3\n",
        "print(x,y,z)"
      ],
      "metadata": {
        "colab": {
          "base_uri": "https://localhost:8080/"
        },
        "id": "7E9YazGQeWdf",
        "outputId": "b141c214-9e77-4f13-c263-df191e84b898"
      },
      "execution_count": 3,
      "outputs": [
        {
          "output_type": "stream",
          "name": "stdout",
          "text": [
            "1 2 3\n"
          ]
        }
      ]
    },
    {
      "cell_type": "code",
      "source": [
        "a, b, c = 3, 7, 2"
      ],
      "metadata": {
        "id": "GaYga0t0ejFe"
      },
      "execution_count": 4,
      "outputs": []
    },
    {
      "cell_type": "code",
      "source": [],
      "metadata": {
        "id": "FyD0nd80i48j"
      },
      "execution_count": null,
      "outputs": []
    },
    {
      "cell_type": "code",
      "source": [
        "print(a+b)\n",
        "print(a-b)\n",
        "print(a*b)\n",
        "print(b/a)\n",
        "print(b%a)\n",
        "print(a**c)\n",
        "print(a//c)"
      ],
      "metadata": {
        "colab": {
          "base_uri": "https://localhost:8080/"
        },
        "id": "4D26yvu5exe2",
        "outputId": "c618b208-f0b9-44c4-fea1-f8dbbbda3977"
      },
      "execution_count": 6,
      "outputs": [
        {
          "output_type": "stream",
          "name": "stdout",
          "text": [
            "10\n",
            "-4\n",
            "21\n",
            "2.3333333333333335\n",
            "1\n",
            "9\n",
            "1\n"
          ]
        }
      ]
    },
    {
      "cell_type": "markdown",
      "source": [
        "# 1-2. 방정식과 부등식"
      ],
      "metadata": {
        "id": "9FV7CGuSfF7-"
      }
    },
    {
      "cell_type": "code",
      "source": [
        "import numpy\n",
        "from sympy import Symbol as symbol, solve"
      ],
      "metadata": {
        "id": "zCp5Y_oMe0Xl"
      },
      "execution_count": 8,
      "outputs": []
    },
    {
      "cell_type": "code",
      "source": [
        "# 방정식\n",
        "\n",
        "# 사용할 변수 선언\n",
        "x = symbol('x')\n",
        "\n",
        "# 방정식을 풀기위해 (일차방정식) = 0 으로 만들어줌\n",
        "# 모든 식을 좌변으로 이동. equation으로 변수화\n",
        "equation = 2 * x - 6\n",
        "\n",
        "\n",
        "# 방정식을 풀기위해 Sympy에 내장된 solve() 함수를 사용\n",
        "# solve() 함수 안에 equation을 입력하면, 방정식을 풀어 결과를 반환\n",
        "solve(equation)"
      ],
      "metadata": {
        "colab": {
          "base_uri": "https://localhost:8080/"
        },
        "id": "fhLwm2p6fVkF",
        "outputId": "75ae3738-1f2c-4b59-a29e-75e1aacd3a78"
      },
      "execution_count": 9,
      "outputs": [
        {
          "output_type": "execute_result",
          "data": {
            "text/plain": [
              "[3]"
            ]
          },
          "metadata": {},
          "execution_count": 9
        }
      ]
    },
    {
      "cell_type": "code",
      "source": [
        "# 4= k -2 방정식의 해를 구하라\n",
        "k = symbol('k')\n",
        "equation = k - 2 - 4\n",
        "solve(equation)"
      ],
      "metadata": {
        "colab": {
          "base_uri": "https://localhost:8080/"
        },
        "id": "UYQnWGcJgIgK",
        "outputId": "d293feb7-6ba0-4dc6-8cc2-f7a1152f033d"
      },
      "execution_count": 10,
      "outputs": [
        {
          "output_type": "execute_result",
          "data": {
            "text/plain": [
              "[6]"
            ]
          },
          "metadata": {},
          "execution_count": 10
        }
      ]
    },
    {
      "cell_type": "code",
      "source": [
        "# 10 = 2k 방정식의 해를 구하라\n",
        "k = symbol('k')\n",
        "equation = 2 * k - 10\n",
        "solve(equation)"
      ],
      "metadata": {
        "colab": {
          "base_uri": "https://localhost:8080/"
        },
        "id": "7nJmOJJ8g0Re",
        "outputId": "eebb95ea-2748-485c-9b61-dab420ce10e8"
      },
      "execution_count": 11,
      "outputs": [
        {
          "output_type": "execute_result",
          "data": {
            "text/plain": [
              "[5]"
            ]
          },
          "metadata": {},
          "execution_count": 11
        }
      ]
    },
    {
      "cell_type": "code",
      "source": [
        "# k/2 = 8 방정식의 해를 구하라\n",
        "k = symbol('k')\n",
        "equation = k/2 - 8\n",
        "solve(equation)"
      ],
      "metadata": {
        "colab": {
          "base_uri": "https://localhost:8080/"
        },
        "id": "Ihd9SwP6hF9z",
        "outputId": "400d8e73-d433-4b5c-8510-1846e36754bd"
      },
      "execution_count": 12,
      "outputs": [
        {
          "output_type": "execute_result",
          "data": {
            "text/plain": [
              "[16]"
            ]
          },
          "metadata": {},
          "execution_count": 12
        }
      ]
    },
    {
      "cell_type": "code",
      "source": [
        "# 연립방정식\n",
        "\n",
        "x = symbol('x')\n",
        "y = symbol('y')\n",
        "\n",
        "# 식 2개를 만듦\n",
        "equation1 = 3 * x + y - 2\n",
        "equation2 = x - 2 * y - 3\n",
        "\n",
        "solve((equation1, equation2), dict=True) # dict 는 해를 딕셔너리 형태로 반환"
      ],
      "metadata": {
        "colab": {
          "base_uri": "https://localhost:8080/"
        },
        "id": "6TZb-MJshTk2",
        "outputId": "a2d63d7d-9daf-4ba4-f87b-9d93134369e5"
      },
      "execution_count": 14,
      "outputs": [
        {
          "output_type": "execute_result",
          "data": {
            "text/plain": [
              "[{x: 1, y: -1}]"
            ]
          },
          "metadata": {},
          "execution_count": 14
        }
      ]
    },
    {
      "cell_type": "markdown",
      "source": [
        "# 4-2. 거듭제곱과 거듭제곱근"
      ],
      "metadata": {
        "id": "5ds1QEzji1qI"
      }
    },
    {
      "cell_type": "code",
      "source": [
        "# 거듭제곱의 표현\n",
        "2**5"
      ],
      "metadata": {
        "colab": {
          "base_uri": "https://localhost:8080/"
        },
        "id": "WAb5hOfTifTJ",
        "outputId": "d4a329eb-1f4f-41a5-b65b-2711e71dcc4a"
      },
      "execution_count": 15,
      "outputs": [
        {
          "output_type": "execute_result",
          "data": {
            "text/plain": [
              "32"
            ]
          },
          "metadata": {},
          "execution_count": 15
        }
      ]
    },
    {
      "cell_type": "code",
      "source": [
        "import math\n",
        "#sqrt 함수를 이용해 거듭제곱근을 구함\n",
        "math.sqrt(2)"
      ],
      "metadata": {
        "colab": {
          "base_uri": "https://localhost:8080/"
        },
        "id": "zzWeeTcTjZLV",
        "outputId": "da56a9ca-f26c-4cf7-8cd1-7318fe2f8a74"
      },
      "execution_count": 16,
      "outputs": [
        {
          "output_type": "execute_result",
          "data": {
            "text/plain": [
              "1.4142135623730951"
            ]
          },
          "metadata": {},
          "execution_count": 16
        }
      ]
    },
    {
      "cell_type": "code",
      "source": [
        "math.sqrt(9)"
      ],
      "metadata": {
        "colab": {
          "base_uri": "https://localhost:8080/"
        },
        "id": "p3z0EcEWjnc-",
        "outputId": "48a13646-f757-4c07-bb8a-b4160b5e4177"
      },
      "execution_count": 17,
      "outputs": [
        {
          "output_type": "execute_result",
          "data": {
            "text/plain": [
              "3.0"
            ]
          },
          "metadata": {},
          "execution_count": 17
        }
      ]
    },
    {
      "cell_type": "markdown",
      "source": [
        "# 4-3. 인수분해"
      ],
      "metadata": {
        "id": "Dn5m2wpljwkm"
      }
    },
    {
      "cell_type": "code",
      "source": [
        "from sympy import expand, factor, Symbol\n",
        "x = Symbol('x')"
      ],
      "metadata": {
        "id": "OKVyEu11jtAf"
      },
      "execution_count": 19,
      "outputs": []
    },
    {
      "cell_type": "code",
      "source": [
        "# 수식을 전개하는 함수\n",
        "expand((x + 1) * (x + 5))"
      ],
      "metadata": {
        "colab": {
          "base_uri": "https://localhost:8080/",
          "height": 38
        },
        "id": "t0vCLtoQkIuQ",
        "outputId": "ff34c2fd-b4af-4c91-d1db-6f1236f8b123"
      },
      "execution_count": 20,
      "outputs": [
        {
          "output_type": "execute_result",
          "data": {
            "text/plain": [
              "x**2 + 6*x + 5"
            ],
            "text/latex": "$\\displaystyle x^{2} + 6 x + 5$"
          },
          "metadata": {},
          "execution_count": 20
        }
      ]
    },
    {
      "cell_type": "code",
      "source": [
        "# 인수분해를 하는 함수\n",
        "factor(x**2 + 6*x + 5)"
      ],
      "metadata": {
        "colab": {
          "base_uri": "https://localhost:8080/",
          "height": 38
        },
        "id": "7_nlm2MDkeYP",
        "outputId": "4190ecad-899f-4bcf-8491-d9a6287f2a15"
      },
      "execution_count": 21,
      "outputs": [
        {
          "output_type": "execute_result",
          "data": {
            "text/plain": [
              "(x + 1)*(x + 5)"
            ],
            "text/latex": "$\\displaystyle \\left(x + 1\\right) \\left(x + 5\\right)$"
          },
          "metadata": {},
          "execution_count": 21
        }
      ]
    },
    {
      "cell_type": "code",
      "source": [
        "factor(x**3 * y - x* y**3)"
      ],
      "metadata": {
        "colab": {
          "base_uri": "https://localhost:8080/",
          "height": 38
        },
        "id": "yT23MDyik12A",
        "outputId": "d9ff7578-b5fc-44dc-ee39-261c4ed7e8e5"
      },
      "execution_count": 22,
      "outputs": [
        {
          "output_type": "execute_result",
          "data": {
            "text/plain": [
              "x*y*(x - y)*(x + y)"
            ],
            "text/latex": "$\\displaystyle x y \\left(x - y\\right) \\left(x + y\\right)$"
          },
          "metadata": {},
          "execution_count": 22
        }
      ]
    },
    {
      "cell_type": "code",
      "source": [
        "factor(x**2 + x*3 + 2)"
      ],
      "metadata": {
        "colab": {
          "base_uri": "https://localhost:8080/",
          "height": 38
        },
        "id": "dNnNx39nlCqX",
        "outputId": "6c7524b1-e141-450d-c553-850745035eb3"
      },
      "execution_count": 23,
      "outputs": [
        {
          "output_type": "execute_result",
          "data": {
            "text/plain": [
              "(x + 1)*(x + 2)"
            ],
            "text/latex": "$\\displaystyle \\left(x + 1\\right) \\left(x + 2\\right)$"
          },
          "metadata": {},
          "execution_count": 23
        }
      ]
    },
    {
      "cell_type": "code",
      "source": [],
      "metadata": {
        "id": "q_ZyNV7XlMgo"
      },
      "execution_count": null,
      "outputs": []
    }
  ]
}